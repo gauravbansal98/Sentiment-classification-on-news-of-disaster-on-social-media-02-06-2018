{
  "nbformat": 4,
  "nbformat_minor": 0,
  "metadata": {
    "colab": {
      "name": "Using_bidirectional_dynamic_rnn_and_word_embeddings_accuray_around_79.ipynb",
      "version": "0.3.2",
      "provenance": [],
      "collapsed_sections": []
    },
    "kernelspec": {
      "name": "python3",
      "display_name": "Python 3"
    },
    "accelerator": "GPU"
  },
  "cells": [
    {
      "cell_type": "markdown",
      "metadata": {
        "id": "view-in-github",
        "colab_type": "text"
      },
      "source": [
        "[View in Colaboratory](https://colab.research.google.com/github/gauravbansal98/Sentiment-classification-on-news-of-disaster-on-social-media-02-06-2018/blob/master/Using_bidirectional_dynamic_rnn_and_word_embeddings_accuray_around_79.ipynb)"
      ]
    },
    {
      "metadata": {
        "id": "f612pfQHa4Ek",
        "colab_type": "code",
        "colab": {}
      },
      "cell_type": "code",
      "source": [
        "!apt-get install -y -qq software-properties-common python-software-properties module-init-tools\n",
        "!add-apt-repository -y ppa:alessandro-strada/ppa 2>&1 > /dev/null\n",
        "!apt-get update -qq 2>&1 > /dev/null\n",
        "!apt-get -y install -qq google-drive-ocamlfuse fuse\n",
        "from google.colab import auth\n",
        "auth.authenticate_user()\n",
        "from oauth2client.client import GoogleCredentials\n",
        "creds = GoogleCredentials.get_application_default()\n",
        "import getpass\n",
        "!google-drive-ocamlfuse -headless -id={creds.client_id} -secret={creds.client_secret} < /dev/null 2>&1 | grep URL\n",
        "vcode = getpass.getpass()\n",
        "!echo {vcode} | google-drive-ocamlfuse -headless -id={creds.client_id} -secret={creds.client_secret}"
      ],
      "execution_count": 0,
      "outputs": []
    },
    {
      "metadata": {
        "id": "LbH-V2exa-AK",
        "colab_type": "code",
        "colab": {}
      },
      "cell_type": "code",
      "source": [
        "!mkdir -p drive\n",
        "!google-drive-ocamlfuse drive"
      ],
      "execution_count": 0,
      "outputs": []
    },
    {
      "metadata": {
        "id": "hhH3oSjBbDxT",
        "colab_type": "code",
        "colab": {}
      },
      "cell_type": "code",
      "source": [
        "import tensorflow as tf\n",
        "import numpy as np\n",
        "import pandas as pd\n",
        "import matplotlib as plt\n",
        "import random\n",
        "import time\n",
        "from collections import Counter\n",
        "import keras\n",
        "from keras.preprocessing.sequence import pad_sequences\n",
        "\n",
        "import nltk\n",
        "nltk.download()\n",
        "\n",
        "from nltk.tokenize import word_tokenize\n",
        "from nltk.corpus import stopwords\n",
        "from nltk import WordNetLemmatizer\n",
        "\n",
        "import os\n",
        "os.chdir('drive/disasters on social media')\n",
        "\n",
        "lemmatizer = WordNetLemmatizer()\n",
        "stop_words = stopwords.words('english')\n",
        "print(stop_words)"
      ],
      "execution_count": 0,
      "outputs": []
    },
    {
      "metadata": {
        "id": "ZYV761IpbH8D",
        "colab_type": "code",
        "colab": {}
      },
      "cell_type": "code",
      "source": [
        "import re\n",
        "import codecs\n",
        "  "
      ],
      "execution_count": 0,
      "outputs": []
    },
    {
      "metadata": {
        "id": "Y6Evj81GbQAC",
        "colab_type": "code",
        "colab": {
          "base_uri": "https://localhost:8080/",
          "height": 198
        },
        "outputId": "e51387c2-baa5-4102-858b-792a9d535987"
      },
      "cell_type": "code",
      "source": [
        "questions = pd.read_csv('socialmedia-disaster-tweets-DFE.csv', encoding = 'latin-1')\n",
        "questions = questions[['choose_one', 'text']]\n",
        "questions.head()\n"
      ],
      "execution_count": 6,
      "outputs": [
        {
          "output_type": "execute_result",
          "data": {
            "text/html": [
              "<div>\n",
              "<style scoped>\n",
              "    .dataframe tbody tr th:only-of-type {\n",
              "        vertical-align: middle;\n",
              "    }\n",
              "\n",
              "    .dataframe tbody tr th {\n",
              "        vertical-align: top;\n",
              "    }\n",
              "\n",
              "    .dataframe thead th {\n",
              "        text-align: right;\n",
              "    }\n",
              "</style>\n",
              "<table border=\"1\" class=\"dataframe\">\n",
              "  <thead>\n",
              "    <tr style=\"text-align: right;\">\n",
              "      <th></th>\n",
              "      <th>choose_one</th>\n",
              "      <th>text</th>\n",
              "    </tr>\n",
              "  </thead>\n",
              "  <tbody>\n",
              "    <tr>\n",
              "      <th>0</th>\n",
              "      <td>Relevant</td>\n",
              "      <td>Just happened a terrible car crash</td>\n",
              "    </tr>\n",
              "    <tr>\n",
              "      <th>1</th>\n",
              "      <td>Relevant</td>\n",
              "      <td>Our Deeds are the Reason of this #earthquake M...</td>\n",
              "    </tr>\n",
              "    <tr>\n",
              "      <th>2</th>\n",
              "      <td>Relevant</td>\n",
              "      <td>Heard about #earthquake is different cities, s...</td>\n",
              "    </tr>\n",
              "    <tr>\n",
              "      <th>3</th>\n",
              "      <td>Relevant</td>\n",
              "      <td>there is a forest fire at spot pond, geese are...</td>\n",
              "    </tr>\n",
              "    <tr>\n",
              "      <th>4</th>\n",
              "      <td>Relevant</td>\n",
              "      <td>Forest fire near La Ronge Sask. Canada</td>\n",
              "    </tr>\n",
              "  </tbody>\n",
              "</table>\n",
              "</div>"
            ],
            "text/plain": [
              "  choose_one                                               text\n",
              "0   Relevant                 Just happened a terrible car crash\n",
              "1   Relevant  Our Deeds are the Reason of this #earthquake M...\n",
              "2   Relevant  Heard about #earthquake is different cities, s...\n",
              "3   Relevant  there is a forest fire at spot pond, geese are...\n",
              "4   Relevant             Forest fire near La Ronge Sask. Canada"
            ]
          },
          "metadata": {
            "tags": []
          },
          "execution_count": 6
        }
      ]
    },
    {
      "metadata": {
        "id": "wXVF89avbSLT",
        "colab_type": "code",
        "colab": {
          "base_uri": "https://localhost:8080/",
          "height": 198
        },
        "outputId": "9f69b504-11ac-47a6-c250-63a9f95b35d3"
      },
      "cell_type": "code",
      "source": [
        "questions.tail()\n"
      ],
      "execution_count": 7,
      "outputs": [
        {
          "output_type": "execute_result",
          "data": {
            "text/html": [
              "<div>\n",
              "<style scoped>\n",
              "    .dataframe tbody tr th:only-of-type {\n",
              "        vertical-align: middle;\n",
              "    }\n",
              "\n",
              "    .dataframe tbody tr th {\n",
              "        vertical-align: top;\n",
              "    }\n",
              "\n",
              "    .dataframe thead th {\n",
              "        text-align: right;\n",
              "    }\n",
              "</style>\n",
              "<table border=\"1\" class=\"dataframe\">\n",
              "  <thead>\n",
              "    <tr style=\"text-align: right;\">\n",
              "      <th></th>\n",
              "      <th>choose_one</th>\n",
              "      <th>text</th>\n",
              "    </tr>\n",
              "  </thead>\n",
              "  <tbody>\n",
              "    <tr>\n",
              "      <th>10871</th>\n",
              "      <td>Relevant</td>\n",
              "      <td>M1.94 [01:04 UTC]?5km S of Volcano Hawaii. htt...</td>\n",
              "    </tr>\n",
              "    <tr>\n",
              "      <th>10872</th>\n",
              "      <td>Relevant</td>\n",
              "      <td>Police investigating after an e-bike collided ...</td>\n",
              "    </tr>\n",
              "    <tr>\n",
              "      <th>10873</th>\n",
              "      <td>Relevant</td>\n",
              "      <td>The Latest: More Homes Razed by Northern Calif...</td>\n",
              "    </tr>\n",
              "    <tr>\n",
              "      <th>10874</th>\n",
              "      <td>Relevant</td>\n",
              "      <td>MEG issues Hazardous Weather Outlook (HWO) htt...</td>\n",
              "    </tr>\n",
              "    <tr>\n",
              "      <th>10875</th>\n",
              "      <td>Relevant</td>\n",
              "      <td>#CityofCalgary has activated its Municipal Eme...</td>\n",
              "    </tr>\n",
              "  </tbody>\n",
              "</table>\n",
              "</div>"
            ],
            "text/plain": [
              "      choose_one                                               text\n",
              "10871   Relevant  M1.94 [01:04 UTC]?5km S of Volcano Hawaii. htt...\n",
              "10872   Relevant  Police investigating after an e-bike collided ...\n",
              "10873   Relevant  The Latest: More Homes Razed by Northern Calif...\n",
              "10874   Relevant  MEG issues Hazardous Weather Outlook (HWO) htt...\n",
              "10875   Relevant  #CityofCalgary has activated its Municipal Eme..."
            ]
          },
          "metadata": {
            "tags": []
          },
          "execution_count": 7
        }
      ]
    },
    {
      "metadata": {
        "id": "yj50aqv-bUZL",
        "colab_type": "code",
        "colab": {
          "base_uri": "https://localhost:8080/",
          "height": 198
        },
        "outputId": "7fd3d32f-fde4-49bb-df6b-536336479302"
      },
      "cell_type": "code",
      "source": [
        "def standardize_text(df, text_field):\n",
        "  df[text_field] = df[text_field].str.replace(r\"http\\S+\", \"\")\n",
        "  df[text_field] = df[text_field].str.replace(r\"http\", \"\")\n",
        "  df[text_field] = df[text_field].str.replace(r\"@\\S+\", \"\")\n",
        "  df[text_field] = df[text_field].str.replace(r\"[^A-Za-z0-9(),!?@\\'\\`\\\"\\_\\n]\", \" \")\n",
        "  df[text_field] = df[text_field].str.replace(r\"@\", \"at\")\n",
        "  df[text_field] = df[text_field].str.lower()\n",
        "  return df\n",
        "\n",
        "questions = standardize_text(questions, \"text\")\n",
        "\n",
        "questions.to_csv(\"clean_data.csv\")\n",
        "questions.head()"
      ],
      "execution_count": 8,
      "outputs": [
        {
          "output_type": "execute_result",
          "data": {
            "text/html": [
              "<div>\n",
              "<style scoped>\n",
              "    .dataframe tbody tr th:only-of-type {\n",
              "        vertical-align: middle;\n",
              "    }\n",
              "\n",
              "    .dataframe tbody tr th {\n",
              "        vertical-align: top;\n",
              "    }\n",
              "\n",
              "    .dataframe thead th {\n",
              "        text-align: right;\n",
              "    }\n",
              "</style>\n",
              "<table border=\"1\" class=\"dataframe\">\n",
              "  <thead>\n",
              "    <tr style=\"text-align: right;\">\n",
              "      <th></th>\n",
              "      <th>choose_one</th>\n",
              "      <th>text</th>\n",
              "    </tr>\n",
              "  </thead>\n",
              "  <tbody>\n",
              "    <tr>\n",
              "      <th>0</th>\n",
              "      <td>Relevant</td>\n",
              "      <td>just happened a terrible car crash</td>\n",
              "    </tr>\n",
              "    <tr>\n",
              "      <th>1</th>\n",
              "      <td>Relevant</td>\n",
              "      <td>our deeds are the reason of this  earthquake m...</td>\n",
              "    </tr>\n",
              "    <tr>\n",
              "      <th>2</th>\n",
              "      <td>Relevant</td>\n",
              "      <td>heard about  earthquake is different cities, s...</td>\n",
              "    </tr>\n",
              "    <tr>\n",
              "      <th>3</th>\n",
              "      <td>Relevant</td>\n",
              "      <td>there is a forest fire at spot pond, geese are...</td>\n",
              "    </tr>\n",
              "    <tr>\n",
              "      <th>4</th>\n",
              "      <td>Relevant</td>\n",
              "      <td>forest fire near la ronge sask  canada</td>\n",
              "    </tr>\n",
              "  </tbody>\n",
              "</table>\n",
              "</div>"
            ],
            "text/plain": [
              "  choose_one                                               text\n",
              "0   Relevant                 just happened a terrible car crash\n",
              "1   Relevant  our deeds are the reason of this  earthquake m...\n",
              "2   Relevant  heard about  earthquake is different cities, s...\n",
              "3   Relevant  there is a forest fire at spot pond, geese are...\n",
              "4   Relevant             forest fire near la ronge sask  canada"
            ]
          },
          "metadata": {
            "tags": []
          },
          "execution_count": 8
        }
      ]
    },
    {
      "metadata": {
        "id": "Qov5AsVYbW6z",
        "colab_type": "code",
        "colab": {
          "base_uri": "https://localhost:8080/",
          "height": 168
        },
        "outputId": "bb6338a9-4c1e-4cf2-b5d1-84f0bbabe1ac"
      },
      "cell_type": "code",
      "source": [
        "questions.groupby('choose_one').count()"
      ],
      "execution_count": 9,
      "outputs": [
        {
          "output_type": "execute_result",
          "data": {
            "text/html": [
              "<div>\n",
              "<style scoped>\n",
              "    .dataframe tbody tr th:only-of-type {\n",
              "        vertical-align: middle;\n",
              "    }\n",
              "\n",
              "    .dataframe tbody tr th {\n",
              "        vertical-align: top;\n",
              "    }\n",
              "\n",
              "    .dataframe thead th {\n",
              "        text-align: right;\n",
              "    }\n",
              "</style>\n",
              "<table border=\"1\" class=\"dataframe\">\n",
              "  <thead>\n",
              "    <tr style=\"text-align: right;\">\n",
              "      <th></th>\n",
              "      <th>text</th>\n",
              "    </tr>\n",
              "    <tr>\n",
              "      <th>choose_one</th>\n",
              "      <th></th>\n",
              "    </tr>\n",
              "  </thead>\n",
              "  <tbody>\n",
              "    <tr>\n",
              "      <th>Can't Decide</th>\n",
              "      <td>16</td>\n",
              "    </tr>\n",
              "    <tr>\n",
              "      <th>Not Relevant</th>\n",
              "      <td>6187</td>\n",
              "    </tr>\n",
              "    <tr>\n",
              "      <th>Relevant</th>\n",
              "      <td>4673</td>\n",
              "    </tr>\n",
              "  </tbody>\n",
              "</table>\n",
              "</div>"
            ],
            "text/plain": [
              "              text\n",
              "choose_one        \n",
              "Can't Decide    16\n",
              "Not Relevant  6187\n",
              "Relevant      4673"
            ]
          },
          "metadata": {
            "tags": []
          },
          "execution_count": 9
        }
      ]
    },
    {
      "metadata": {
        "id": "afJjDeaVbcOj",
        "colab_type": "code",
        "colab": {
          "base_uri": "https://localhost:8080/",
          "height": 33
        },
        "outputId": "89cb9549-8578-4ed3-9e88-32bee5218319"
      },
      "cell_type": "code",
      "source": [
        "def create_lexicon():\n",
        "  file = pd.read_csv('clean_data.csv', encoding = 'latin-1')\n",
        "  tweets = file['text']\n",
        "  lexicon = []\n",
        "  for line in tweets:\n",
        "    words = word_tokenize(line)\n",
        "    words = [lemmatizer.lemmatize(word) for word in words]\n",
        "    lexicon += words\n",
        "   \n",
        "  #lexicon = set(lexicon)\n",
        "  lexicon_without_stop_words= []\n",
        "  \n",
        "  for word in lexicon:\n",
        "    if word in stop_words:\n",
        "      continue\n",
        "    else:\n",
        "      lexicon_without_stop_words.append(word)\n",
        "      \n",
        "  print(len(lexicon_without_stop_words))\n",
        "  \n",
        "  final_lexicon= [] \n",
        "  \n",
        "  words = nltk.FreqDist(lexicon_without_stop_words)\n",
        "  \n",
        "  for word in words:\n",
        "    if words[word] > 2 and len(word) > 2:\n",
        "      final_lexicon.append(word)\n",
        "   \n",
        "  return final_lexicon\n",
        "      \n",
        "lexicon = create_lexicon()"
      ],
      "execution_count": 10,
      "outputs": [
        {
          "output_type": "stream",
          "text": [
            "111553\n"
          ],
          "name": "stdout"
        }
      ]
    },
    {
      "metadata": {
        "id": "41u0jgpybeb7",
        "colab_type": "code",
        "colab": {
          "base_uri": "https://localhost:8080/",
          "height": 33
        },
        "outputId": "d8f62dee-b31a-4bce-c09a-e615249dee4c"
      },
      "cell_type": "code",
      "source": [
        "len_of_lexicon = len(lexicon)\n",
        "print(len_of_lexicon)"
      ],
      "execution_count": 11,
      "outputs": [
        {
          "output_type": "stream",
          "text": [
            "4859\n"
          ],
          "name": "stdout"
        }
      ]
    },
    {
      "metadata": {
        "id": "QfyfIPrkbhCj",
        "colab_type": "code",
        "colab": {}
      },
      "cell_type": "code",
      "source": [
        "import matplotlib.pyplot as plt"
      ],
      "execution_count": 0,
      "outputs": []
    },
    {
      "metadata": {
        "id": "BtO6ulgLbjTL",
        "colab_type": "code",
        "colab": {
          "base_uri": "https://localhost:8080/",
          "height": 623
        },
        "outputId": "b75eb084-5f7c-4333-f635-8af9df4660ce"
      },
      "cell_type": "code",
      "source": [
        "def plot_the_length_of_sentences():\n",
        "  file = pd.read_csv('clean_data.csv', encoding = 'latin-1')\n",
        "  tweets = file['text']\n",
        "  sentences_length = []\n",
        "  for line in tweets:\n",
        "    words = word_tokenize(line)\n",
        "    sentences_length.append(len(words))\n",
        "    \n",
        "  fig = plt.figure(figsize = (10, 10))\n",
        "  plt.xlabel('Length of sentences')\n",
        "  plt.ylabel('Number of sentences')\n",
        "  plt.hist(sentences_length, range = (0,40))\n",
        "  plt.show()\n",
        "  \n",
        "  return sentences_length\n",
        "\n",
        "  \n",
        "sentences_length = plot_the_length_of_sentences()\n",
        "print('Average length of a sentence:', sum(sentences_length)/len(questions['text']))"
      ],
      "execution_count": 13,
      "outputs": [
        {
          "output_type": "display_data",
          "data": {
            "image/png": "[encoded data removed]",
            "text/plain": [
              "<matplotlib.figure.Figure at 0x7f39987f1c50>"
            ]
          },
          "metadata": {
            "tags": []
          }
        },
        {
          "output_type": "stream",
          "text": [
            "Average length of a sentence: 14.978484737035675\n"
          ],
          "name": "stdout"
        }
      ]
    },
    {
      "metadata": {
        "id": "IEPunkBibk06",
        "colab_type": "code",
        "colab": {}
      },
      "cell_type": "code",
      "source": [
        "word_embeddings = []\n",
        "word_embeddings_word = []\n",
        "i = 0\n",
        "with open('glove.6B.100d.txt', 'r') as f:\n",
        "  lines = f.readlines()\n",
        "  len_ = len(lines)\n",
        "  for line in lines[:int(.9*len_)]:         #as it crashes when used whole length\n",
        "    line = line.lower()\n",
        "    words = word_tokenize(line)\n",
        "    word_embeddings_word.append(words[0])\n",
        "    word_embeddings.append(words[1:])\n",
        "print(word_embeddings)"
      ],
      "execution_count": 0,
      "outputs": []
    },
    {
      "metadata": {
        "id": "2TOeojZ6bnQ7",
        "colab_type": "code",
        "colab": {
          "base_uri": "https://localhost:8080/",
          "height": 33
        },
        "outputId": "46c4c34e-9307-45f3-9206-165bdfa525ff"
      },
      "cell_type": "code",
      "source": [
        "print(len(word_embeddings_word))\n",
        "index_of_a_word_in_lexicon_in_word_embeddings = []\n",
        "value = []\n",
        "for word in lexicon:\n",
        "  if word in word_embeddings_word:\n",
        "    value.append(word)\n",
        "    index_in_word_embeddings = word_embeddings_word.index(word)\n",
        "    index_of_a_word_in_lexicon_in_word_embeddings.append(index_in_word_embeddings)\n",
        "  else:\n",
        "    index_of_a_word_in_lexicon_in_word_embeddings.append(0)\n",
        "    "
      ],
      "execution_count": 15,
      "outputs": [
        {
          "output_type": "stream",
          "text": [
            "360000\n"
          ],
          "name": "stdout"
        }
      ]
    },
    {
      "metadata": {
        "id": "QRZM4Lukbpsu",
        "colab_type": "code",
        "colab": {}
      },
      "cell_type": "code",
      "source": [
        "from sklearn.model_selection import train_test_split\n",
        "\n",
        "clean_questions = pd.read_csv('clean_data.csv', encoding = 'latin-1') \n",
        "\n",
        "outputs = []\n",
        "\n",
        "for output in clean_questions['choose_one']:\n",
        "  if output == 'Relevant':\n",
        "    outputs.append(1)\n",
        "  elif output == 'Not Relevant':\n",
        "    outputs.append(0)\n",
        "  else:\n",
        "    outputs.append(2)\n",
        "    \n",
        "clean_questions['choose_one'] = outputs\n",
        "\n",
        "list_corpus = clean_questions[\"text\"].tolist()\n",
        "list_labels = clean_questions[\"choose_one\"].tolist()\n",
        "\n",
        "\n",
        "X_train, X_test, y_train, y_test = train_test_split(list_corpus, list_labels, test_size=0.1, \n",
        "                                                                                random_state=40, shuffle = True)"
      ],
      "execution_count": 0,
      "outputs": []
    },
    {
      "metadata": {
        "id": "r-HhhOlBy_Jn",
        "colab_type": "code",
        "colab": {}
      },
      "cell_type": "code",
      "source": [
        "y_train_dual = []\n",
        "y_test_dual = []\n",
        "for i in y_train:\n",
        "  if i == 1:\n",
        "    y_train_dual.append([1, 0])\n",
        "  elif i == 0:\n",
        "    y_train_dual.append([0, 1])\n",
        "  else:\n",
        "    y_train_dual.append([0, 0])\n",
        "    \n",
        "for i in y_test:\n",
        "  if i == 1:\n",
        "    y_test_dual.append([1, 0])\n",
        "  elif i == 0:\n",
        "    y_test_dual.append([0, 1])\n",
        "  else:\n",
        "    y_test_dual.append([0, 0])\n",
        "    \n",
        "y_train = y_train_dual\n",
        "y_test = y_test_dual\n",
        "\n",
        "print(y_train)"
      ],
      "execution_count": 0,
      "outputs": []
    },
    {
      "metadata": {
        "id": "WloTJMgDEV2P",
        "colab_type": "code",
        "colab": {}
      },
      "cell_type": "code",
      "source": [
        "def padding_process(lines):\n",
        "  \n",
        "  lengths = [len(line) for line in lines]\n",
        "  \n",
        "  max_len = max(lengths)\n",
        "\n",
        "  padded_lines = pad_sequences(lines, maxlen = max_len, dtype = 'str', padding = 'post', truncating = 'post')\n",
        "  \n",
        "  return padded_lines, lengths"
      ],
      "execution_count": 0,
      "outputs": []
    },
    {
      "metadata": {
        "id": "4A1NSIllHCPY",
        "colab_type": "code",
        "colab": {}
      },
      "cell_type": "code",
      "source": [
        "def convert_to_list(lines):\n",
        "  list_of_eg = []\n",
        "  for line in lines:\n",
        "    line = str(line)\n",
        "    line= line.lower()\n",
        "    words = word_tokenize(line)\n",
        "    '''\n",
        "    new_words = []\n",
        "    for word in words:\n",
        "      if word in value:\n",
        "        new_words.append(word)\n",
        "    '''\n",
        "    lemmatized_words = [lemmatizer.lemmatize(word) for word in words]\n",
        "    list_of_eg.append(lemmatized_words)\n",
        "  return list_of_eg"
      ],
      "execution_count": 0,
      "outputs": []
    },
    {
      "metadata": {
        "id": "gIZcLh81byn1",
        "colab_type": "code",
        "colab": {}
      },
      "cell_type": "code",
      "source": [
        "# 2 to 95 because there are faults in the embeddings\n",
        "def convert_to_vector(lines, max_len):\n",
        "  no_of_samples = len(lines)\n",
        "  features_of_batch = []\n",
        "  for line in lines:\n",
        "    features_of_line = []\n",
        "    for word in line:\n",
        "      feature = np.zeros(93)\n",
        "      if word in value:\n",
        "        index_in_lexicon = lexicon.index(word)\n",
        "        feature = word_embeddings[index_of_a_word_in_lexicon_in_word_embeddings[index_in_lexicon]][3:96]\n",
        "      features_of_line.append(feature)\n",
        "    features_of_batch.append(list(features_of_line))\n",
        "  features_of_batch = np.array(features_of_batch)\n",
        "  features_of_batch = np.reshape(features_of_batch, (no_of_samples, max_len, 93))\n",
        "  print(features_of_batch.shape)\n",
        "    \n",
        "  return features_of_batch\n",
        "\n",
        "features = convert_to_list(X_train[:128])\n",
        "features, lengths = padding_process(features)\n",
        "features = convert_to_vector(features, max(lengths))\n",
        "\n",
        "print(features[1])            \n",
        "              \n"
      ],
      "execution_count": 0,
      "outputs": []
    },
    {
      "metadata": {
        "id": "nchy3oPNuayI",
        "colab_type": "code",
        "colab": {}
      },
      "cell_type": "code",
      "source": [
        "os.chdir('/content')\n",
        "!git clone https://github.com/mixuala/colab_utils\n",
        "import colab_utils.tboard\n",
        "ROOT = %pwd\n",
        "print(ROOT)\n",
        "LOG_DIR = os.path.join(ROOT, 'gaurav')\n",
        "print(LOG_DIR)\n",
        "colab_utils.tboard.launch_tensorboard( bin_dir=ROOT, log_dir=LOG_DIR )"
      ],
      "execution_count": 0,
      "outputs": []
    },
    {
      "metadata": {
        "id": "R9ZnVn28M8-z",
        "colab_type": "code",
        "colab": {}
      },
      "cell_type": "code",
      "source": [
        "from tensorflow.python.ops import rnn, rnn_cell\n",
        "tf.reset_default_graph()"
      ],
      "execution_count": 0,
      "outputs": []
    },
    {
      "metadata": {
        "id": "eZ7rNIlOb5hz",
        "colab_type": "code",
        "colab": {}
      },
      "cell_type": "code",
      "source": [
        "batch_size = 128\n",
        "rnn_size = 12\n",
        "len_of_word_embedding_vector = 93\n",
        "output_nodes = 2\n",
        "\n",
        "\n",
        "x = tf.placeholder('float', name = 'input_labels', shape = [None, None, 93])\n",
        "y = tf.placeholder('float', name = 'output_labels')\n",
        "dropout_prob = tf.placeholder('float', name = 'keep_prob')\n",
        "input_sequence_length = tf.placeholder(dtype = tf.int32, shape = [None], name = 'input_sequence_length')\n",
        "max_len = tf.placeholder(dtype = tf.int32)\n",
        "\n",
        "\n",
        "hm_epochs = 30\n",
        "output_layer = {'weights': tf.Variable(tf.random_normal([rnn_size*2, output_nodes], name = 'weights')),\n",
        "                'biases' : tf.Variable(tf.random_normal([1, output_nodes], name = 'biases'))}"
      ],
      "execution_count": 0,
      "outputs": []
    },
    {
      "metadata": {
        "id": "qrmOmdTQb8AK",
        "colab_type": "code",
        "colab": {}
      },
      "cell_type": "code",
      "source": [
        "def neural_network_model(x, input_sequence_length, max_len, keep_prob):\n",
        "  with tf.name_scope('neural_network'):\n",
        "    forward_cell = tf.nn.rnn_cell.BasicLSTMCell(rnn_size)\n",
        "    backward_cell = tf.nn.rnn_cell.BasicLSTMCell(rnn_size)\n",
        "    forward_drop = tf.contrib.rnn.DropoutWrapper(forward_cell, input_keep_prob = keep_prob)\n",
        "    backward_drop = tf.contrib.rnn.DropoutWrapper(backward_cell, input_keep_prob = keep_prob)\n",
        "    x = tf.transpose(x, [1,0,2])\n",
        "    bi_outputs, encoder_state = tf.nn.bidirectional_dynamic_rnn(forward_drop, backward_drop, x, dtype = tf.float32,\n",
        "                                                              sequence_length = input_sequence_length, time_major=True)\n",
        "    output = tf.concat(encoder_state, -1)\n",
        "    '''\n",
        "\n",
        "    x = tf.reshape(x, [-1, chunk_size])\n",
        "    x = tf.split(x, n_chunks, 0)\n",
        "    output, states = rnn.static_rnn(forward_cell,x ,dtype=tf.float32)\n",
        "    '''\n",
        "    outputs = tf.matmul(output[0],output_layer['weights']) + output_layer['biases']\n",
        "    \n",
        "    return outputs"
      ],
      "execution_count": 0,
      "outputs": []
    },
    {
      "metadata": {
        "id": "y8AJZK-Kb_Rg",
        "colab_type": "code",
        "colab": {}
      },
      "cell_type": "code",
      "source": [
        "def train_neural_network(x):\n",
        "  #beta = 0.00001\n",
        "  prediction = neural_network_model(x, input_sequence_length, max_len, dropout_prob)\n",
        "  #regularizer = tf.nn.l2_loss(output_layer['weights'])\n",
        "  with tf.name_scope('cost'):  \n",
        "    cost = tf.reduce_mean(tf.nn.softmax_cross_entropy_with_logits(logits = prediction, labels = y))\n",
        "  summary = tf.summary.scalar('t', cost)\n",
        "  \n",
        "  with tf.name_scope('Optimizer'):\n",
        "    optimizer = tf.train.AdamOptimizer(learning_rate = 0.01).minimize(cost)\n",
        "    \n",
        "  merged = tf.summary.merge_all() \n",
        "  \n",
        "  with tf.Session() as sess:\n",
        "    sess.run(tf.global_variables_initializer()) \n",
        "    train_writer = tf.summary.FileWriter('./gaurav',sess.graph)\n",
        "    k = 0\n",
        "    len_of_train_data = len(X_train)\n",
        "    for epoch in range(hm_epochs):\n",
        "      epoch_loss = 0\n",
        "      starting = 0\n",
        "      end = batch_size\n",
        "   \n",
        "      while end <= len_of_train_data:\n",
        "        epoch_x = X_train[starting:end]\n",
        "        epoch_y = y_train[starting:end]\n",
        "        starting = end\n",
        "        end = end + batch_size\n",
        "        epoch_x = convert_to_list(epoch_x)\n",
        "        new_epoch_x = []\n",
        "        new_epoch_y = []\n",
        "        i = 0\n",
        "        for line in epoch_x:\n",
        "          if len(line) < 20:\n",
        "            new_epoch_x.append(line)\n",
        "            new_epoch_y.append(epoch_y[i])\n",
        "          i = i + 1\n",
        "        epoch_x, lengths = padding_process(new_epoch_x)\n",
        "        epoch_x = convert_to_vector(epoch_x, max(lengths))\n",
        "        epoch_y = new_epoch_y\n",
        "        _, c, m = sess.run([optimizer, cost, merged], feed_dict={x: epoch_x, y: epoch_y, max_len : max(lengths),\n",
        "                                                                 input_sequence_length:lengths,dropout_prob : 0.7,\n",
        "                                                                 learning : 8.0/(1000 + 80*epoch)})\n",
        "        \n",
        "        epoch_loss += c\n",
        "        train_writer.add_summary(m, k)\n",
        "        k += 1\n",
        "      \n",
        "      print('loss after ', epoch, 'is', epoch_loss)\n",
        "            \n",
        "      correct = tf.equal(tf.argmax(prediction, 1), tf.argmax(y, 1))\n",
        "\n",
        "      accuracy = tf.reduce_mean(tf.cast(correct, 'float'))\n",
        "\n",
        "      epoch_y = y_test\n",
        "      epoch_x = X_test\n",
        "      epoch_x = convert_to_list(epoch_x)\n",
        "      new_epoch_x = []\n",
        "      new_epoch_y = []\n",
        "      i = 0\n",
        "      for line in epoch_x:\n",
        "        if len(line) < 20:\n",
        "          new_epoch_x.append(line)\n",
        "          new_epoch_y.append(epoch_y[i])\n",
        "        i = i + 1\n",
        "      epoch_x, lengths = padding_process(new_epoch_x)\n",
        "      epoch_x = convert_to_vector(epoch_x, max(lengths))\n",
        "\n",
        "      epoch_y = new_epoch_y\n",
        "    \n",
        "    \n",
        "      print('Accuracy:',accuracy.eval({x:epoch_x, y:epoch_y, dropout_prob : 1.0, input_sequence_length:lengths, max_len : max(lengths) }))\n",
        "      \n",
        "    correct = tf.equal(tf.argmax(prediction, 1), tf.argmax(y, 1))\n",
        "\n",
        "    accuracy = tf.reduce_mean(tf.cast(correct, 'float'))\n",
        "    \n",
        "    epoch_y = y_test\n",
        "    epoch_x = X_test\n",
        "    epoch_x = convert_to_list(epoch_x)\n",
        "    new_epoch_x = []\n",
        "    new_epoch_y = []\n",
        "    i = 0\n",
        "    for line in epoch_x:\n",
        "      if len(line) < 10:\n",
        "        new_epoch_x.append(line)\n",
        "        new_epoch_y.append(epoch_y[i])\n",
        "      i = i + 1\n",
        "    epoch_x, lengths = padding_process(new_epoch_x)\n",
        "    epoch_x = convert_to_vector(epoch_x, max(lengths))\n",
        "    \n",
        "    epoch_y = new_epoch_y\n",
        "    \n",
        "    \n",
        "    print('Accuracy:',accuracy.eval({x:epoch_x, y:epoch_y, dropout_prob : 1.0, input_sequence_length:lengths, max_len : max(lengths) }))\n",
        "    \n",
        "train_neural_network(x)"
      ],
      "execution_count": 0,
      "outputs": []
    },
    {
      "metadata": {
        "id": "ZEBAevh6cDQZ",
        "colab_type": "code",
        "colab": {}
      },
      "cell_type": "code",
      "source": [
        ""
      ],
      "execution_count": 0,
      "outputs": []
    }
  ]
}